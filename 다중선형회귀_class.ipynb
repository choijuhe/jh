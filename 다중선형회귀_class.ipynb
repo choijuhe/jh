{
  "nbformat": 4,
  "nbformat_minor": 0,
  "metadata": {
    "colab": {
      "provenance": [],
      "include_colab_link": true
    },
    "kernelspec": {
      "name": "python3",
      "display_name": "Python 3"
    },
    "language_info": {
      "name": "python"
    }
  },
  "cells": [
    {
      "cell_type": "markdown",
      "metadata": {
        "id": "view-in-github",
        "colab_type": "text"
      },
      "source": [
        "<a href=\"https://colab.research.google.com/github/choijuhe/jh/blob/main/%EB%8B%A4%EC%A4%91%EC%84%A0%ED%98%95%ED%9A%8C%EA%B7%80_class.ipynb\" target=\"_parent\"><img src=\"https://colab.research.google.com/assets/colab-badge.svg\" alt=\"Open In Colab\"/></a>"
      ]
    },
    {
      "cell_type": "code",
      "execution_count": null,
      "metadata": {
        "colab": {
          "base_uri": "https://localhost:8080/"
        },
        "id": "gQJ-RfxGNPE7",
        "outputId": "1642ff93-5c4a-4aa0-a370-b105b5b316d1"
      },
      "outputs": [
        {
          "output_type": "stream",
          "name": "stdout",
          "text": [
            "Epoch    0/2000 prediction: tensor([32.4753, 43.8630, 40.7504, 44.7217, 34.2637]) Cost: 17617.699219\n",
            "Epoch  100/2000 prediction: tensor([150.2693, 185.3984, 180.2308, 196.6075, 142.2126]) Cost: 0.724297\n",
            "Epoch  200/2000 prediction: tensor([150.2923, 185.3829, 180.2381, 196.6106, 142.1941]) Cost: 0.706007\n",
            "Epoch  300/2000 prediction: tensor([150.3147, 185.3678, 180.2453, 196.6135, 142.1762]) Cost: 0.688632\n",
            "Epoch  400/2000 prediction: tensor([150.3365, 185.3531, 180.2523, 196.6164, 142.1587]) Cost: 0.672113\n",
            "Epoch  500/2000 prediction: tensor([150.3578, 185.3387, 180.2590, 196.6191, 142.1417]) Cost: 0.656434\n",
            "Epoch  600/2000 prediction: tensor([150.3785, 185.3248, 180.2657, 196.6217, 142.1252]) Cost: 0.641529\n",
            "Epoch  700/2000 prediction: tensor([150.3986, 185.3111, 180.2721, 196.6242, 142.1092]) Cost: 0.627349\n",
            "Epoch  800/2000 prediction: tensor([150.4183, 185.2979, 180.2784, 196.6266, 142.0937]) Cost: 0.613880\n",
            "Epoch  900/2000 prediction: tensor([150.4375, 185.2850, 180.2846, 196.6289, 142.0786]) Cost: 0.601068\n",
            "Epoch 1000/2000 prediction: tensor([150.4561, 185.2724, 180.2906, 196.6310, 142.0639]) Cost: 0.588875\n",
            "Epoch 1100/2000 prediction: tensor([150.4743, 185.2601, 180.2964, 196.6331, 142.0496]) Cost: 0.577288\n",
            "Epoch 1200/2000 prediction: tensor([150.4921, 185.2482, 180.3021, 196.6351, 142.0358]) Cost: 0.566256\n",
            "Epoch 1300/2000 prediction: tensor([150.5094, 185.2366, 180.3077, 196.6369, 142.0223]) Cost: 0.555767\n",
            "Epoch 1400/2000 prediction: tensor([150.5262, 185.2252, 180.3132, 196.6387, 142.0093]) Cost: 0.545780\n",
            "Epoch 1500/2000 prediction: tensor([150.5426, 185.2142, 180.3185, 196.6404, 141.9966]) Cost: 0.536268\n",
            "Epoch 1600/2000 prediction: tensor([150.5587, 185.2034, 180.3236, 196.6420, 141.9843]) Cost: 0.527214\n",
            "Epoch 1700/2000 prediction: tensor([150.5742, 185.1929, 180.3287, 196.6436, 141.9723]) Cost: 0.518592\n",
            "Epoch 1800/2000 prediction: tensor([150.5895, 185.1827, 180.3336, 196.6450, 141.9607]) Cost: 0.510366\n",
            "Epoch 1900/2000 prediction: tensor([150.6043, 185.1728, 180.3384, 196.6463, 141.9495]) Cost: 0.502546\n",
            "Epoch 2000/2000 prediction: tensor([150.6187, 185.1631, 180.3431, 196.6476, 141.9386]) Cost: 0.495084\n",
            "예측 값: 182.3875732421875\n"
          ]
        }
      ],
      "source": [
        "import torch\n",
        "import torch.nn as nn\n",
        "import torch.optim as optim\n",
        "import numpy as np\n",
        "\n",
        "# 데이터셋\n",
        "x_data = torch.tensor([[73, 80, 75],\n",
        "                       [93, 88, 93],\n",
        "                       [89, 91, 90],\n",
        "                       [96, 98, 100],\n",
        "                       [73, 66, 70]], dtype=torch.float32)\n",
        "\n",
        "y_data = torch.tensor([[152],\n",
        "                       [185],\n",
        "                       [180],\n",
        "                       [196],\n",
        "                       [142]], dtype=torch.float32)\n",
        "\n",
        "\n",
        "# 다중 선형 회귀 클래스\n",
        "class MultiLinearRegression(nn.Module):\n",
        "    def __init__(self):\n",
        "        super(MultiLinearRegression, self).__init__()\n",
        "        self.linear = nn.Linear(3, 1)\n",
        "\n",
        "    def forward(self, x):\n",
        "        return self.linear(x)\n",
        "\n",
        "\n",
        "model = MultiLinearRegression()\n",
        "\n",
        "# 손실 함수와 옵티마이저\n",
        "loss_fn = nn.MSELoss()  # 평균 제곱 오차\n",
        "optimizer = optim.SGD(model.parameters(), lr=1e-5)\n",
        "\n",
        "# 학습\n",
        "epochs = 2000\n",
        "for epoch in range(epochs + 1):\n",
        "    prediction = model(x_data)\n",
        "\n",
        "    loss = loss_fn(prediction, y_data)\n",
        "\n",
        "    optimizer.zero_grad()\n",
        "    loss.backward()\n",
        "    optimizer.step()\n",
        "\n",
        "    if epoch % 100 ==0:\n",
        "      print('Epoch {:4d}/{} prediction: {} Cost: {:.6f}'.format(\n",
        "          epoch, epochs, prediction.squeeze().detach(), loss.item()\n",
        "      ))\n",
        "\n",
        "# 예측\n",
        "model.eval()\n",
        "x_test = torch.tensor([[90, 88, 93]], dtype=torch.float32)\n",
        "y_test = model(x_test)\n",
        "print(f\"예측 값: {y_test.squeeze().detach()}\")\n",
        "\n"
      ]
    }
  ]
}